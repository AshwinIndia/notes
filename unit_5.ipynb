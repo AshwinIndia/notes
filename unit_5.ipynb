{
 "cells": [
  {
   "cell_type": "markdown",
   "metadata": {},
   "source": [
    "# 1. Opening and Closing Files\n",
    "In Python, files are opened using the open() function and closed using the close() method.\n",
    "\n",
    "Syntax for open():\n",
    "file_object = open(file_name, mode)\n",
    "\n",
    "Common Parameters:\n",
    "1. file_name: The name of the file to open (with extension).\n",
    "2. mode: The mode in which the file is opened (e.g., read, write, etc.).\n",
    "\n",
    "Modes in File Handling:\n",
    "Mode\tDescription\n",
    "r\tOpens a file for reading (default). The file must exist.\n",
    "w\tOpens a file for writing. If the file exists, it truncates the file to zero length.\n",
    "x\tCreates a new file. If the file already exists, it raises a FileExistsError.\n",
    "a\tOpens a file for appending. Data is added to the end of the file.\n",
    "t\tText mode (default). Opens a file as a text file.\n",
    "b\tBinary mode. Opens a file as a binary file.\n",
    "+\tOpens a file for both reading and writing."
   ]
  },
  {
   "cell_type": "markdown",
   "metadata": {},
   "source": [
    "Closing a File:\n",
    "It is essential to close files to free system resources. Use the close() method:\n",
    "file_object.close()\n"
   ]
  },
  {
   "cell_type": "markdown",
   "metadata": {},
   "source": [
    "# with keyword\n",
    "\n",
    "Alternatively, use a with statement to automatically close the file:\n",
    "\n",
    "with open(file_name, mode) as file_object:\n",
    "    \n"
   ]
  },
  {
   "cell_type": "markdown",
   "metadata": {},
   "source": [
    "# 2. Reading from a File\n",
    "There are multiple ways to read from a file. Python provides several methods for this purpose.\n",
    "\n",
    "Methods for Reading:\n",
    "read(size): Reads the specified number of characters or bytes. If size is not provided, it reads the entire file.\n",
    "readline(): Reads one line at a time.\n",
    "readlines(): Reads all lines as a list."
   ]
  },
  {
   "cell_type": "code",
   "execution_count": null,
   "metadata": {},
   "outputs": [],
   "source": [
    "with open(\"example.txt\", \"r\") as file:\n",
    "    content = file.read()\n",
    "    print(content)"
   ]
  },
  {
   "cell_type": "code",
   "execution_count": null,
   "metadata": {},
   "outputs": [],
   "source": [
    "with open(\"example.txt\", \"r\") as file:\n",
    "    for line in file:\n",
    "        print(line.strip())   "
   ]
  },
  {
   "cell_type": "code",
   "execution_count": null,
   "metadata": {},
   "outputs": [],
   "source": [
    "with open(\"example.txt\", \"r\") as file:\n",
    "    line = file.readline()\n",
    "    while line:\n",
    "        print(line.strip())\n",
    "        line = file.readline()"
   ]
  },
  {
   "cell_type": "code",
   "execution_count": null,
   "metadata": {},
   "outputs": [],
   "source": [
    "with open(\"example.txt\", \"r\") as file:\n",
    "    lines = file.readlines()\n",
    "    print(lines) "
   ]
  },
  {
   "cell_type": "markdown",
   "metadata": {},
   "source": [
    "# 3. Writing to a File\n",
    "To write to a file, you can use the following methods:\n",
    "\n",
    "write(string): Writes the specified string to the file.\n",
    "writelines(list): Writes a list of strings to the file."
   ]
  },
  {
   "cell_type": "code",
   "execution_count": null,
   "metadata": {},
   "outputs": [],
   "source": [
    "with open(\"example.txt\", \"w\") as file:\n",
    "    file.write(\"This is a new line.\\n\")\n",
    "    file.write(\"This will overwrite any existing content.\")\n",
    "\n",
    "lines = [\"First line\\n\", \"Second line\\n\", \"Third line\\n\"]\n",
    "with open(\"example.txt\", \"w\") as file:\n",
    "    file.writelines(lines)\n"
   ]
  },
  {
   "cell_type": "markdown",
   "metadata": {},
   "source": [
    "# 4. Appending to a File\n",
    "Appending is done using the a mode."
   ]
  },
  {
   "cell_type": "code",
   "execution_count": null,
   "metadata": {},
   "outputs": [],
   "source": [
    "with open(\"example.txt\", \"a\") as file:\n",
    "    file.write(\"\\nThis line is appended at the end.\")\n"
   ]
  },
  {
   "cell_type": "markdown",
   "metadata": {},
   "source": [
    "# 5. File Modes with Combinations\n",
    "Read and Write (r+):\n",
    "Allows reading and writing.\n",
    "The file must exist."
   ]
  },
  {
   "cell_type": "code",
   "execution_count": null,
   "metadata": {},
   "outputs": [],
   "source": [
    "with open(\"example.txt\", \"r+\") as file:\n",
    "    content = file.read()\n",
    "    file.write(\"\\nAdding more data.\")"
   ]
  },
  {
   "cell_type": "markdown",
   "metadata": {},
   "source": [
    "Write and Read (w+):\n",
    "Opens a file for writing and reading.\n",
    "Overwrites existing content or creates a new file.\n",
    "use seek function to move to a location in file"
   ]
  },
  {
   "cell_type": "code",
   "execution_count": null,
   "metadata": {},
   "outputs": [],
   "source": [
    "with open(\"example.txt\", \"w+\") as file:\n",
    "    file.write(\"Starting fresh.\\n\")\n",
    "    file.seek(0)  \n",
    "    print(file.read())\n"
   ]
  },
  {
   "cell_type": "markdown",
   "metadata": {},
   "source": [
    "Append and Read (a+):\n",
    "Opens a file for appending and reading.\n",
    "If the file does not exist, it creates a new one."
   ]
  },
  {
   "cell_type": "code",
   "execution_count": null,
   "metadata": {},
   "outputs": [],
   "source": [
    "with open(\"example.txt\", \"a+\") as file:\n",
    "    file.write(\"\\nAppending this line.\")\n",
    "    file.seek(0)\n",
    "    print(file.read())\n"
   ]
  },
  {
   "cell_type": "markdown",
   "metadata": {},
   "source": [
    "Exclusive Creation (x):\n",
    "Creates a new file and opens it for writing.\n",
    "Raises an error if the file already exists."
   ]
  },
  {
   "cell_type": "code",
   "execution_count": null,
   "metadata": {},
   "outputs": [],
   "source": [
    "try:\n",
    "    with open(\"newfile.txt\", \"x\") as file:\n",
    "        file.write(\"This is a new file.\")\n",
    "except FileExistsError:\n",
    "    print(\"File already exists!\")\n"
   ]
  },
  {
   "cell_type": "markdown",
   "metadata": {},
   "source": [
    "# 6. Working with Binary Files\n",
    "Binary files are handled in b mode.\n",
    "\n",
    "Writing Binary Data:"
   ]
  },
  {
   "cell_type": "code",
   "execution_count": null,
   "metadata": {},
   "outputs": [],
   "source": [
    "with open(\"example.bin\", \"wb\") as file:\n",
    "    data = b\"This is binary data.\"\n",
    "    file.write(data)"
   ]
  },
  {
   "cell_type": "markdown",
   "metadata": {},
   "source": [
    "Reading Binary Data:"
   ]
  },
  {
   "cell_type": "code",
   "execution_count": null,
   "metadata": {},
   "outputs": [],
   "source": [
    "with open(\"example.bin\", \"rb\") as file:\n",
    "    data = file.read()\n",
    "    print(data)\n"
   ]
  },
  {
   "cell_type": "markdown",
   "metadata": {},
   "source": [
    "# 7. Handling File Exceptions\n",
    "Using try...except ensures proper handling of errors."
   ]
  },
  {
   "cell_type": "code",
   "execution_count": null,
   "metadata": {},
   "outputs": [],
   "source": [
    "try:\n",
    "    with open(\"nonexistent.txt\", \"r\") as file:\n",
    "        content = file.read()\n",
    "except FileNotFoundError:\n",
    "    print(\"The file does not exist.\")\n"
   ]
  },
  {
   "cell_type": "markdown",
   "metadata": {},
   "source": [
    "# 8. Checking File Existence\n",
    "Use the os module to check if a file exists."
   ]
  },
  {
   "cell_type": "code",
   "execution_count": null,
   "metadata": {},
   "outputs": [],
   "source": [
    "import os\n",
    "\n",
    "if os.path.exists(\"example.txt\"):\n",
    "    print(\"File exists!\")\n",
    "else:\n",
    "    print(\"File does not exist!\")\n"
   ]
  },
  {
   "cell_type": "markdown",
   "metadata": {},
   "source": [
    "# Merge Sort\n",
    "Merge Sort is a divide-and-conquer algorithm that divides the input array into smaller halves, sorts them, and then merges the sorted halves to form the final sorted array. It is a stable and efficient sorting algorithm with a time complexity of O(nlogn)."
   ]
  },
  {
   "cell_type": "markdown",
   "metadata": {},
   "source": [
    "# Steps of Merge Sort\n",
    "Divide: Split the array into two halves until each half contains a single element.\n",
    "\n",
    "Conquer: Recursively sort each half.\n",
    "\n",
    "Merge: Combine the two sorted halves into a single sorted array."
   ]
  },
  {
   "cell_type": "code",
   "execution_count": 4,
   "metadata": {},
   "outputs": [
    {
     "name": "stdout",
     "output_type": "stream",
     "text": [
      "Original Array: [10, 5, 17, 9, 30, 24]\n"
     ]
    },
    {
     "data": {
      "image/png": "[encoded data removed]",
      "text/plain": [
       "<Figure size 640x480 with 1 Axes>"
      ]
     },
     "metadata": {},
     "output_type": "display_data"
    },
    {
     "data": {
      "image/png": "[encoded data removed]",
      "text/plain": [
       "<Figure size 640x480 with 1 Axes>"
      ]
     },
     "metadata": {},
     "output_type": "display_data"
    },
    {
     "data": {
      "image/png": "[encoded data removed]",
      "text/plain": [
       "<Figure size 640x480 with 1 Axes>"
      ]
     },
     "metadata": {},
     "output_type": "display_data"
    },
    {
     "data": {
      "image/png": "[encoded data removed]",
      "text/plain": [
       "<Figure size 640x480 with 1 Axes>"
      ]
     },
     "metadata": {},
     "output_type": "display_data"
    },
    {
     "data": {
      "image/png": "[encoded data removed]",
      "text/plain": [
       "<Figure size 640x480 with 1 Axes>"
      ]
     },
     "metadata": {},
     "output_type": "display_data"
    },
    {
     "data": {
      "image/png": "[encoded data removed]",
      "text/plain": [
       "<Figure size 640x480 with 1 Axes>"
      ]
     },
     "metadata": {},
     "output_type": "display_data"
    },
    {
     "data": {
      "image/png": "[encoded data removed]",
      "text/plain": [
       "<Figure size 640x480 with 1 Axes>"
      ]
     },
     "metadata": {},
     "output_type": "display_data"
    },
    {
     "data": {
      "image/png": "[encoded data removed]",
      "text/plain": [
       "<Figure size 640x480 with 1 Axes>"
      ]
     },
     "metadata": {},
     "output_type": "display_data"
    },
    {
     "data": {
      "image/png": "[encoded data removed]",
      "text/plain": [
       "<Figure size 640x480 with 1 Axes>"
      ]
     },
     "metadata": {},
     "output_type": "display_data"
    },
    {
     "data": {
      "image/png": "[encoded data removed]",
      "text/plain": [
       "<Figure size 640x480 with 1 Axes>"
      ]
     },
     "metadata": {},
     "output_type": "display_data"
    },
    {
     "ename": "KeyboardInterrupt",
     "evalue": "",
     "output_type": "error",
     "traceback": [
      "\u001b[1;31m---------------------------------------------------------------------------\u001b[0m",
      "\u001b[1;31mKeyboardInterrupt\u001b[0m                         Traceback (most recent call last)",
      "Cell \u001b[1;32mIn[4], line 71\u001b[0m\n\u001b[0;32m     68\u001b[0m plt\u001b[38;5;241m.\u001b[39mbar(\u001b[38;5;28mrange\u001b[39m(\u001b[38;5;28mlen\u001b[39m(arr)), arr, color\u001b[38;5;241m=\u001b[39m\u001b[38;5;124m'\u001b[39m\u001b[38;5;124mblue\u001b[39m\u001b[38;5;124m'\u001b[39m)\n\u001b[0;32m     69\u001b[0m plt\u001b[38;5;241m.\u001b[39mpause(\u001b[38;5;241m1\u001b[39m)\n\u001b[1;32m---> 71\u001b[0m \u001b[43mmerge_sort\u001b[49m\u001b[43m(\u001b[49m\u001b[43marr\u001b[49m\u001b[43m,\u001b[49m\u001b[43m \u001b[49m\u001b[38;5;241;43m0\u001b[39;49m\u001b[43m,\u001b[49m\u001b[43m \u001b[49m\u001b[38;5;28;43mlen\u001b[39;49m\u001b[43m(\u001b[49m\u001b[43marr\u001b[49m\u001b[43m)\u001b[49m\u001b[43m \u001b[49m\u001b[38;5;241;43m-\u001b[39;49m\u001b[43m \u001b[49m\u001b[38;5;241;43m1\u001b[39;49m\u001b[43m)\u001b[49m\n\u001b[0;32m     73\u001b[0m \u001b[38;5;66;03m# Visualize the sorted array\u001b[39;00m\n\u001b[0;32m     74\u001b[0m plt\u001b[38;5;241m.\u001b[39mbar(\u001b[38;5;28mrange\u001b[39m(\u001b[38;5;28mlen\u001b[39m(arr)), arr, color\u001b[38;5;241m=\u001b[39m\u001b[38;5;124m'\u001b[39m\u001b[38;5;124mgreen\u001b[39m\u001b[38;5;124m'\u001b[39m)\n",
      "Cell \u001b[1;32mIn[4], line 56\u001b[0m, in \u001b[0;36mmerge_sort\u001b[1;34m(arr, left, right)\u001b[0m\n\u001b[0;32m     54\u001b[0m \u001b[38;5;66;03m# Sort the first and second halves\u001b[39;00m\n\u001b[0;32m     55\u001b[0m merge_sort(arr, left, mid)\n\u001b[1;32m---> 56\u001b[0m \u001b[43mmerge_sort\u001b[49m\u001b[43m(\u001b[49m\u001b[43marr\u001b[49m\u001b[43m,\u001b[49m\u001b[43m \u001b[49m\u001b[43mmid\u001b[49m\u001b[43m \u001b[49m\u001b[38;5;241;43m+\u001b[39;49m\u001b[43m \u001b[49m\u001b[38;5;241;43m1\u001b[39;49m\u001b[43m,\u001b[49m\u001b[43m \u001b[49m\u001b[43mright\u001b[49m\u001b[43m)\u001b[49m\n\u001b[0;32m     58\u001b[0m \u001b[38;5;66;03m# Merge the sorted halves\u001b[39;00m\n\u001b[0;32m     59\u001b[0m merge(arr, left, mid, right)\n",
      "Cell \u001b[1;32mIn[4], line 59\u001b[0m, in \u001b[0;36mmerge_sort\u001b[1;34m(arr, left, right)\u001b[0m\n\u001b[0;32m     56\u001b[0m merge_sort(arr, mid \u001b[38;5;241m+\u001b[39m \u001b[38;5;241m1\u001b[39m, right)\n\u001b[0;32m     58\u001b[0m \u001b[38;5;66;03m# Merge the sorted halves\u001b[39;00m\n\u001b[1;32m---> 59\u001b[0m \u001b[43mmerge\u001b[49m\u001b[43m(\u001b[49m\u001b[43marr\u001b[49m\u001b[43m,\u001b[49m\u001b[43m \u001b[49m\u001b[43mleft\u001b[49m\u001b[43m,\u001b[49m\u001b[43m \u001b[49m\u001b[43mmid\u001b[49m\u001b[43m,\u001b[49m\u001b[43m \u001b[49m\u001b[43mright\u001b[49m\u001b[43m)\u001b[49m\n",
      "Cell \u001b[1;32mIn[4], line 31\u001b[0m, in \u001b[0;36mmerge\u001b[1;34m(arr, left, mid, right)\u001b[0m\n\u001b[0;32m     29\u001b[0m \u001b[38;5;28;01melse\u001b[39;00m:\n\u001b[0;32m     30\u001b[0m     arr[k] \u001b[38;5;241m=\u001b[39m R[j]\n\u001b[1;32m---> 31\u001b[0m     \u001b[43mvisualize\u001b[49m\u001b[43m(\u001b[49m\u001b[43marr\u001b[49m\u001b[43m,\u001b[49m\u001b[43m \u001b[49m\u001b[43m[\u001b[49m\u001b[43mk\u001b[49m\u001b[43m]\u001b[49m\u001b[43m)\u001b[49m  \u001b[38;5;66;03m# Visualize the current step\u001b[39;00m\n\u001b[0;32m     32\u001b[0m     j \u001b[38;5;241m+\u001b[39m\u001b[38;5;241m=\u001b[39m \u001b[38;5;241m1\u001b[39m\n\u001b[0;32m     33\u001b[0m k \u001b[38;5;241m+\u001b[39m\u001b[38;5;241m=\u001b[39m \u001b[38;5;241m1\u001b[39m\n",
      "Cell \u001b[1;32mIn[4], line 8\u001b[0m, in \u001b[0;36mvisualize\u001b[1;34m(array, highlight_indices)\u001b[0m\n\u001b[0;32m      6\u001b[0m \u001b[38;5;28;01mdef\u001b[39;00m \u001b[38;5;21mvisualize\u001b[39m(array, highlight_indices\u001b[38;5;241m=\u001b[39m[]):\n\u001b[0;32m      7\u001b[0m     plt\u001b[38;5;241m.\u001b[39mbar(\u001b[38;5;28mrange\u001b[39m(\u001b[38;5;28mlen\u001b[39m(array)), array, color\u001b[38;5;241m=\u001b[39m[\u001b[38;5;124m'\u001b[39m\u001b[38;5;124mred\u001b[39m\u001b[38;5;124m'\u001b[39m \u001b[38;5;28;01mif\u001b[39;00m i \u001b[38;5;129;01min\u001b[39;00m highlight_indices \u001b[38;5;28;01melse\u001b[39;00m \u001b[38;5;124m'\u001b[39m\u001b[38;5;124mblue\u001b[39m\u001b[38;5;124m'\u001b[39m \u001b[38;5;28;01mfor\u001b[39;00m i \u001b[38;5;129;01min\u001b[39;00m \u001b[38;5;28mrange\u001b[39m(\u001b[38;5;28mlen\u001b[39m(array))])\n\u001b[1;32m----> 8\u001b[0m     \u001b[43mplt\u001b[49m\u001b[38;5;241;43m.\u001b[39;49m\u001b[43mpause\u001b[49m\u001b[43m(\u001b[49m\u001b[38;5;241;43m0.5\u001b[39;49m\u001b[43m)\u001b[49m\n\u001b[0;32m      9\u001b[0m     plt\u001b[38;5;241m.\u001b[39mclf()\n",
      "File \u001b[1;32mc:\\Users\\ak582\\AppData\\Local\\Programs\\Python\\Python39\\lib\\site-packages\\matplotlib\\pyplot.py:582\u001b[0m, in \u001b[0;36mpause\u001b[1;34m(interval)\u001b[0m\n\u001b[0;32m    580\u001b[0m         canvas\u001b[38;5;241m.\u001b[39mdraw_idle()\n\u001b[0;32m    581\u001b[0m     show(block\u001b[38;5;241m=\u001b[39m\u001b[38;5;28;01mFalse\u001b[39;00m)\n\u001b[1;32m--> 582\u001b[0m     \u001b[43mcanvas\u001b[49m\u001b[38;5;241;43m.\u001b[39;49m\u001b[43mstart_event_loop\u001b[49m\u001b[43m(\u001b[49m\u001b[43minterval\u001b[49m\u001b[43m)\u001b[49m\n\u001b[0;32m    583\u001b[0m \u001b[38;5;28;01melse\u001b[39;00m:\n\u001b[0;32m    584\u001b[0m     time\u001b[38;5;241m.\u001b[39msleep(interval)\n",
      "File \u001b[1;32mc:\\Users\\ak582\\AppData\\Local\\Programs\\Python\\Python39\\lib\\site-packages\\matplotlib\\backend_bases.py:2553\u001b[0m, in \u001b[0;36mFigureCanvasBase.start_event_loop\u001b[1;34m(self, timeout)\u001b[0m\n\u001b[0;32m   2551\u001b[0m \u001b[38;5;28;01mwhile\u001b[39;00m \u001b[38;5;28mself\u001b[39m\u001b[38;5;241m.\u001b[39m_looping \u001b[38;5;129;01mand\u001b[39;00m counter \u001b[38;5;241m*\u001b[39m timestep \u001b[38;5;241m<\u001b[39m timeout:\n\u001b[0;32m   2552\u001b[0m     \u001b[38;5;28mself\u001b[39m\u001b[38;5;241m.\u001b[39mflush_events()\n\u001b[1;32m-> 2553\u001b[0m     \u001b[43mtime\u001b[49m\u001b[38;5;241;43m.\u001b[39;49m\u001b[43msleep\u001b[49m\u001b[43m(\u001b[49m\u001b[43mtimestep\u001b[49m\u001b[43m)\u001b[49m\n\u001b[0;32m   2554\u001b[0m     counter \u001b[38;5;241m+\u001b[39m\u001b[38;5;241m=\u001b[39m \u001b[38;5;241m1\u001b[39m\n",
      "\u001b[1;31mKeyboardInterrupt\u001b[0m: "
     ]
    }
   ],
   "source": [
    "import matplotlib.pyplot as plt\n",
    "import numpy as np\n",
    "import time\n",
    "\n",
    "# Function to visualize the array during sorting\n",
    "def visualize(array, highlight_indices=[]):\n",
    "    plt.bar(range(len(array)), array, color=['red' if i in highlight_indices else 'blue' for i in range(len(array))])\n",
    "    plt.pause(0.5)\n",
    "    plt.clf()\n",
    "\n",
    "# Merge function to merge two sorted subarrays\n",
    "def merge(arr, left, mid, right):\n",
    "    n1 = mid - left + 1  # Size of left subarray\n",
    "    n2 = right - mid     # Size of right subarray\n",
    "\n",
    "    # Create temporary arrays\n",
    "    L = arr[left:left + n1]\n",
    "    R = arr[mid + 1:mid + 1 + n2]\n",
    "\n",
    "    i = j = 0  # Initial indexes for L and R\n",
    "    k = left   # Initial index of the merged subarray\n",
    "\n",
    "    # Merge the temporary arrays back into arr\n",
    "    while i < n1 and j < n2:\n",
    "        if L[i] <= R[j]:\n",
    "            arr[k] = L[i]\n",
    "            visualize(arr, [k])  # Visualize the current step\n",
    "            i += 1\n",
    "        else:\n",
    "            arr[k] = R[j]\n",
    "            visualize(arr, [k])  # Visualize the current step\n",
    "            j += 1\n",
    "        k += 1\n",
    "\n",
    "    # Copy the remaining elements of L[], if any\n",
    "    while i < n1:\n",
    "        arr[k] = L[i]\n",
    "        visualize(arr, [k])  # Visualize the current step\n",
    "        i += 1\n",
    "        k += 1\n",
    "\n",
    "    # Copy the remaining elements of R[], if any\n",
    "    while j < n2:\n",
    "        arr[k] = R[j]\n",
    "        visualize(arr, [k])  # Visualize the current step\n",
    "        j += 1\n",
    "        k += 1\n",
    "\n",
    "# Merge Sort function\n",
    "def merge_sort(arr, left, right):\n",
    "    if left < right:\n",
    "        mid = left + (right - left) // 2\n",
    "\n",
    "        # Sort the first and second halves\n",
    "        merge_sort(arr, left, mid)\n",
    "        merge_sort(arr, mid + 1, right)\n",
    "\n",
    "        # Merge the sorted halves\n",
    "        merge(arr, left, mid, right)\n",
    "\n",
    "# Main Program to demonstrate Merge Sort\n",
    "if __name__ == \"__main__\":\n",
    "    plt.ion()  # Turn on interactive mode\n",
    "    arr = [10,5,17,9,30,24] # Generate random array\n",
    "    print(\"Original Array:\", arr)\n",
    "\n",
    "    # Visualize the initial array\n",
    "    plt.bar(range(len(arr)), arr, color='blue')\n",
    "    plt.pause(1)\n",
    "\n",
    "    merge_sort(arr, 0, len(arr) - 1)\n",
    "\n",
    "    # Visualize the sorted array\n",
    "    plt.bar(range(len(arr)), arr, color='green')\n",
    "    plt.pause(1)\n",
    "    plt.show(block=True)\n",
    "\n",
    "    print(\"Sorted Array:\", arr)\n"
   ]
  }
 ],
 "metadata": {
  "kernelspec": {
   "display_name": "Python 3",
   "language": "python",
   "name": "python3"
  },
  "language_info": {
   "codemirror_mode": {
    "name": "ipython",
    "version": 3
   },
   "file_extension": ".py",
   "mimetype": "text/x-python",
   "name": "python",
   "nbconvert_exporter": "python",
   "pygments_lexer": "ipython3",
   "version": "3.9.6"
  }
 },
 "nbformat": 4,
 "nbformat_minor": 2
}
