{
 "cells": [
  {
   "cell_type": "markdown",
   "metadata": {},
   "source": [
    "# Objects"
   ]
  },
  {
   "cell_type": "markdown",
   "metadata": {},
   "source": [
    "Object-Oriented Programming (OOP) is a programming paradigm that revolves around the concept of objects, which can contain both data (attributes) and functions (methods). In OOP, data and functions are bundled together in objects, making the code modular, reusable, and easier to manage.\n",
    "\n",
    "Key principles of OOP:\n",
    "\n",
    "Encapsulation: Bundling data with methods.\n",
    "Inheritance: Creating new classes from existing classes.\n",
    "Polymorphism: Allowing different data types to be processed through a common interface.\n",
    "Abstraction: Hiding unnecessary details."
   ]
  },
  {
   "cell_type": "markdown",
   "metadata": {},
   "source": [
    "# Class"
   ]
  },
  {
   "cell_type": "markdown",
   "metadata": {},
   "source": [
    "A class in Python is a blueprint for creating objects. Classes contain attributes (variables) and methods (functions) to define the properties and behaviors of the objects."
   ]
  },
  {
   "cell_type": "code",
   "execution_count": null,
   "metadata": {},
   "outputs": [],
   "source": [
    "class Person:\n",
    "    def __init__(self, name, age):\n",
    "        self.name = name\n",
    "        self.age = age\n",
    "\n",
    "person1 = Person(\"Sadabaha\", 39)\n",
    "print(person1.name)  \n",
    "print(person1.age)  \n"
   ]
  },
  {
   "cell_type": "code",
   "execution_count": null,
   "metadata": {},
   "outputs": [],
   "source": [
    "class Animal:\n",
    "    def __init__(self, name, species):\n",
    "        self.name = name\n",
    "        self.species = species\n",
    "\n",
    "    def make_sound(self, sound):\n",
    "        return f\"{self.name} the {self.species} says {sound}\"\n",
    "\n",
    "dog = Animal(\"Buddy\", \"Dog\")\n",
    "\n",
    "print(dog.make_sound(\"Woof\"))"
   ]
  },
  {
   "cell_type": "markdown",
   "metadata": {},
   "source": [
    "# Self"
   ]
  },
  {
   "cell_type": "markdown",
   "metadata": {},
   "source": [
    "The self keyword represents the instance of the class.\n",
    "In Python, methods in a class automatically take the instance (object) as the first argument. By convention, we name this first argument self.\n",
    "self is used to access attributes and methods of the current object within the class.\n",
    "Using self, we can differentiate between class attributes (shared by all instances) and instance attributes (specific to each instance)."
   ]
  },
  {
   "cell_type": "markdown",
   "metadata": {},
   "source": [
    "# Why is self Needed?"
   ]
  },
  {
   "cell_type": "markdown",
   "metadata": {},
   "source": [
    "Python doesn't use a special syntax to reference instance variables, as seen in some other languages. Instead, self is explicitly passed into each method so that instance variables can be accessed through it."
   ]
  },
  {
   "cell_type": "code",
   "execution_count": null,
   "metadata": {},
   "outputs": [],
   "source": [
    "class Dog:\n",
    "    def __init__(self, name, breed):\n",
    "        self.name = name       \n",
    "        self.breed = breed     \n",
    "\n",
    "    def bark(self):\n",
    "        print(f\"{self.name} says Woof!\")\n",
    "\n",
    "dog1 = Dog(\"Sadaba\", \"Big Dog\")\n",
    "\n",
    "dog1.bark()\n"
   ]
  },
  {
   "cell_type": "markdown",
   "metadata": {},
   "source": [
    "self.name is an instance attribute\n",
    "\n",
    "self.breed is an instance attribute\n",
    "\n",
    "\n",
    "In the bark method, we use self.name to access the name attribute of the specific Dog instance that called the method (dog1 in this case). Without self, the method wouldn’t know which instance’s name to refer to."
   ]
  },
  {
   "cell_type": "markdown",
   "metadata": {},
   "source": [
    "# Init Method"
   ]
  },
  {
   "cell_type": "markdown",
   "metadata": {},
   "source": [
    "__init__ is a special method in Python known as the constructor.\n",
    "It’s called automatically when a new instance of the class is created.\n",
    "\n",
    "The main purpose of __init__ is to initialize the object's attributes and set up any necessary properties.\n",
    "\n",
    "__init__ takes at least one argument: self, which refers to the instance being created. Additional parameters can be passed to set up specific attributes."
   ]
  },
  {
   "cell_type": "markdown",
   "metadata": {},
   "source": [
    "# Structure of __init__"
   ]
  },
  {
   "cell_type": "markdown",
   "metadata": {},
   "source": [
    "__init__ is defined with def __init__(self, ...), where any additional arguments after self are used to initialize instance attributes.\n",
    "\n",
    "Inside __init__, attributes are typically assigned to self.attribute_name"
   ]
  },
  {
   "cell_type": "code",
   "execution_count": 1,
   "metadata": {},
   "outputs": [
    {
     "name": "stdout",
     "output_type": "stream",
     "text": [
      "Hello, my name is Bobby and I'm in grade 3A.\n",
      "Hello, my name is Dobby and I'm in grade 3B.\n",
      "Hello, my name is Unknown and I'm in grade BCA.\n"
     ]
    }
   ],
   "source": [
    "class Student:\n",
    "    def __init__(self, name=\"Unknown\", grade=\"BCA\"):\n",
    "        self.name = name      \n",
    "        self.grade = grade    \n",
    "\n",
    "    def introduce(self):\n",
    "        print(f\"Hello, my name is {self.name} and I'm in grade {self.grade}.\")\n",
    "\n",
    "student1 = Student(\"Bobby\", \"3A\")\n",
    "student2 = Student(\"Dobby\", \"3B\")\n",
    "\n",
    "student1.introduce()  \n",
    "student2.introduce()  \n",
    "\n",
    "ayushi= Student()\n",
    "ayushi.introduce()\n"
   ]
  },
  {
   "cell_type": "markdown",
   "metadata": {},
   "source": [
    "# How __init__ Works"
   ]
  },
  {
   "cell_type": "markdown",
   "metadata": {},
   "source": [
    "When Student(\"Bobby\", \"3A\") is executed:\n",
    "\n",
    "Python allocates memory for the new Student instance (student1).\n",
    "\n",
    "Python then calls __init__ with self referring to the new instance, name as \"Bobby\" and grade as \"3A\"\n",
    "\n",
    "Inside __init__, self.name is set to \"Bobby\" and self.grade is set to \"3A\" thus initializing student1.\n",
    "\n",
    "The introduce method, when called, uses self.name and self.grade to access the specific values of each instance."
   ]
  },
  {
   "cell_type": "markdown",
   "metadata": {},
   "source": [
    "# Instance methods"
   ]
  },
  {
   "cell_type": "markdown",
   "metadata": {},
   "source": [
    "Instance methods are functions defined within a class that operate on instances of that class.\n",
    "They are the primary means of interacting with object attributes and performing operations based on the object's data."
   ]
  },
  {
   "cell_type": "markdown",
   "metadata": {},
   "source": [
    "Defined within a class and take self as the first parameter, which represents the specific instance that calls the method.\n",
    "\n",
    "Can access and modify instance attributes and call other instance methods.\n",
    "\n",
    "Only accessible after an instance of the class has been created."
   ]
  },
  {
   "cell_type": "markdown",
   "metadata": {},
   "source": [
    "# New style vs Old Style Class"
   ]
  },
  {
   "cell_type": "markdown",
   "metadata": {},
   "source": [
    "Python has two types of classes: old-style and new-style classes. The difference lies in inheritance, and these styles mainly apply to Python 2, as Python 3 exclusively uses new-style classes."
   ]
  },
  {
   "cell_type": "markdown",
   "metadata": {},
   "source": [
    "# Old-Style Classes (Python 2 Only)\n",
    "In Python 2, classes that do not explicitly inherit from the object class are called old-style classes."
   ]
  },
  {
   "cell_type": "code",
   "execution_count": 2,
   "metadata": {},
   "outputs": [],
   "source": [
    "class OldClass:\n",
    "    pass\n",
    "\n",
    "class NewClass(object):\n",
    "    pass"
   ]
  },
  {
   "cell_type": "markdown",
   "metadata": {},
   "source": [
    "# Attributes\n",
    "Attributes (or fields) in a class store the data related to an instance or the class itself. \n",
    "Attributes can be categorized into instance attributes and class attributes in both Python and Java."
   ]
  },
  {
   "cell_type": "markdown",
   "metadata": {},
   "source": [
    "# Instance Attribute\n",
    "Python: Defined within the __init__ method using self."
   ]
  },
  {
   "cell_type": "code",
   "execution_count": null,
   "metadata": {},
   "outputs": [],
   "source": [
    "class Car:\n",
    "    def __init__(self, make, model):\n",
    "        self.make = make  \n",
    "        self.model = model\n",
    "\n",
    "car1 = Car(\"Tata\", \"Tigor\")\n",
    "car2 = Car(\"Maruti\", \"Suzuki\")\n"
   ]
  },
  {
   "cell_type": "markdown",
   "metadata": {},
   "source": [
    "# Class Attribute\n",
    "Python: Defined directly in the class body and shared by all instances.\n",
    "\n",
    "Java: Declared with the static keyword. All instances share the same value."
   ]
  },
  {
   "cell_type": "code",
   "execution_count": null,
   "metadata": {},
   "outputs": [],
   "source": [
    "class Car:\n",
    "    wheels = 4\n",
    "\n",
    "    def __init__(self, make):\n",
    "        self.make = make\n",
    "\n",
    "car1 = Car(\"Toyota\")\n",
    "print(car1.wheels) \n"
   ]
  },
  {
   "cell_type": "markdown",
   "metadata": {},
   "source": [
    "wheels = 4  is a Class attribute, shared across instances"
   ]
  },
  {
   "cell_type": "markdown",
   "metadata": {},
   "source": [
    "# Inheritance\n",
    "Inheritance allows one class (the subclass) to inherit attributes and methods from another class (the superclass)\n",
    "\n",
    "Python supports multiple inheritance, but java doesn,t\n"
   ]
  },
  {
   "cell_type": "markdown",
   "metadata": {},
   "source": [
    "# Single Inheritance\n",
    "One class inherits from a single superclass."
   ]
  },
  {
   "cell_type": "code",
   "execution_count": null,
   "metadata": {},
   "outputs": [
    {
     "name": "stdout",
     "output_type": "stream",
     "text": [
      "Oye kya kar rhe ho?\n",
      "Woof Woof Aaaj koi tyohar nhi hai dress kaha hai tumhari?\n"
     ]
    }
   ],
   "source": [
    "class Animal:\n",
    "    def speak(self):\n",
    "        return \"Animal Sound\"\n",
    "\n",
    "class Dog(Animal):\n",
    "    def bark(self):\n",
    "        return \"Woof Woof\"\n",
    "\n",
    "dog = Dog()\n",
    "print(dog.speak())"
   ]
  },
  {
   "cell_type": "markdown",
   "metadata": {},
   "source": [
    "# Multiple Inheritance\n",
    "Python allows multiple inheritance directly, while Java does not (it uses interfaces instead)."
   ]
  },
  {
   "cell_type": "code",
   "execution_count": 2,
   "metadata": {},
   "outputs": [
    {
     "name": "stdout",
     "output_type": "stream",
     "text": [
      "10\n",
      "Animal Sound\n",
      "Flies in the sky\n"
     ]
    }
   ],
   "source": [
    "class Animal:\n",
    "    a=10\n",
    "    def speak(self):\n",
    "        return \"Animal Sound\"\n",
    "\n",
    "class Bird:\n",
    "    a=5\n",
    "    def speak(self):\n",
    "        return \"Chirping Chirping\"\n",
    "    def fly(self):\n",
    "        return \"Flies in the sky\"\n",
    "\n",
    "class Duck(Animal,Bird):\n",
    "    pass\n",
    "\n",
    "duck = Duck()\n",
    "print(duck.a)\n",
    "print(duck.speak())\n",
    "print(duck.fly())   "
   ]
  },
  {
   "cell_type": "code",
   "execution_count": 3,
   "metadata": {},
   "outputs": [
    {
     "name": "stdout",
     "output_type": "stream",
     "text": [
      "5\n",
      "Chirping Chirping\n",
      "Flies in the sky\n"
     ]
    }
   ],
   "source": [
    "class Animal:\n",
    "    a=10\n",
    "    def speak(self):\n",
    "        return \"Animal Sound\"\n",
    "\n",
    "class Bird(Animal):\n",
    "    a=5\n",
    "    def speak(self):\n",
    "        return \"Chirping Chirping\"\n",
    "    def fly(self):\n",
    "        return \"Flies in the sky\"\n",
    "\n",
    "class Duck(Bird):\n",
    "    pass\n",
    "\n",
    "duck = Duck()\n",
    "print(duck.a)\n",
    "print(duck.speak())\n",
    "print(duck.fly())   "
   ]
  },
  {
   "cell_type": "code",
   "execution_count": 4,
   "metadata": {},
   "outputs": [
    {
     "name": "stdout",
     "output_type": "stream",
     "text": [
      "5\n",
      "Chirping Chirping\n",
      "Flies in the sky\n"
     ]
    }
   ],
   "source": [
    "class Animal:\n",
    "    a=10\n",
    "    def speak(self):\n",
    "        return \"Animal Sound\"\n",
    "\n",
    "class Bird:\n",
    "    a=5\n",
    "    def speak(self):\n",
    "        return \"Chirping Chirping\"\n",
    "    def fly(self):\n",
    "        return \"Flies in the sky\"\n",
    "\n",
    "class Duck(Bird):\n",
    "    pass\n",
    "\n",
    "duck = Duck()\n",
    "print(duck.a)\n",
    "print(duck.speak())\n",
    "print(duck.fly())   "
   ]
  },
  {
   "cell_type": "code",
   "execution_count": 5,
   "metadata": {},
   "outputs": [
    {
     "name": "stdout",
     "output_type": "stream",
     "text": [
      "5\n",
      "Chirping Chirping\n",
      "Flies in the sky\n"
     ]
    }
   ],
   "source": [
    "class Animal:\n",
    "    a=10\n",
    "    def speak(self):\n",
    "        return \"Animal Sound\"\n",
    "\n",
    "class Bird:\n",
    "    a=5\n",
    "    def speak(self):\n",
    "        return \"Chirping Chirping\"\n",
    "    def fly(self):\n",
    "        return \"Flies in the sky\"\n",
    "\n",
    "class Duck(Bird,Animal):\n",
    "    pass\n",
    "\n",
    "duck = Duck()\n",
    "print(duck.a)\n",
    "print(duck.speak())\n",
    "print(duck.fly())   "
   ]
  },
  {
   "cell_type": "markdown",
   "metadata": {},
   "source": [
    "# MRO\n",
    "Method Resolution Order (MRO) in Python\n",
    "The Method Resolution Order (MRO) defines the sequence in which Python searches for methods or attributes in a hierarchy of classes when a method is called. It plays a key role in multiple inheritance\n",
    "\n",
    "Syntax:\n",
    "classname.mro()\n",
    "\n",
    "or \n",
    "\n",
    "classname.__mro__"
   ]
  },
  {
   "cell_type": "code",
   "execution_count": 22,
   "metadata": {},
   "outputs": [
    {
     "name": "stdout",
     "output_type": "stream",
     "text": [
      "[<class '__main__.D'>, <class '__main__.B'>, <class '__main__.Z'>, <class '__main__.C'>, <class '__main__.A'>, <class 'object'>]\n"
     ]
    }
   ],
   "source": [
    "class A:\n",
    "    def test(self):\n",
    "        print(\"A's test() method\")\n",
    "\n",
    "class F:\n",
    "    def test(self):\n",
    "        print(\"F's test() method\")\n",
    "\n",
    "class Z:\n",
    "    def test(self):\n",
    "        print(\"Z's test() method\")\n",
    "\n",
    "class B(Z):\n",
    "    pass\n",
    "    # def test(self):\n",
    "    #     print(\"B's test() method\")\n",
    "\n",
    "class C(A):\n",
    "    pass\n",
    "    def test(self):\n",
    "        print(\"C's test() method\")\n",
    "\n",
    "class D(B, C):\n",
    "    pass\n",
    "    # def test(self):\n",
    "    #     print(\"D's test() method\")\n",
    "\n",
    "d = D()\n",
    "# d.test()\n",
    "\n",
    "print(D.mro())\n"
   ]
  },
  {
   "cell_type": "markdown",
   "metadata": {},
   "source": [
    "# Calling different class's function"
   ]
  },
  {
   "cell_type": "code",
   "execution_count": 3,
   "metadata": {},
   "outputs": [
    {
     "name": "stdout",
     "output_type": "stream",
     "text": [
      "D's test() method\n",
      "Z's test() method\n",
      "None\n"
     ]
    }
   ],
   "source": [
    "class A:\n",
    "    def test(self):\n",
    "        print(\"A's test() method\")\n",
    "\n",
    "class F:\n",
    "    def test(self):\n",
    "        print(\"F's test() method\")\n",
    "\n",
    "class Z:\n",
    "    def test(self):\n",
    "        print(\"Z's test() method\")\n",
    "\n",
    "class B(Z):\n",
    "    pass\n",
    "    # def test(self):\n",
    "    #     print(\"B's test() method\")\n",
    "\n",
    "class C(A):\n",
    "    def test(self):\n",
    "        print(\"C's test() method\")\n",
    "\n",
    "class D(B, C):\n",
    "    def test(self):\n",
    "        print(\"D's test() method\")\n",
    "\n",
    "d = D()\n",
    "d.test()\n",
    "\n",
    "print(Z.test(d))\n"
   ]
  },
  {
   "cell_type": "markdown",
   "metadata": {},
   "source": [
    "# Object\n",
    "object is the ultimate base class from which all classes (including user-defined ones) implicitly inherit. This means that every class in Python, directly or indirectly, is a subclass of object\n",
    "\n"
   ]
  },
  {
   "cell_type": "code",
   "execution_count": 33,
   "metadata": {},
   "outputs": [
    {
     "name": "stdout",
     "output_type": "stream",
     "text": [
      "<__main__.A object at 0x0000027CC1653CA0>\n",
      "<__main__.A object at 0x0000027CC1653CA0>\n",
      "<__main__.A object at 0x0000027CC1653CA0>\n"
     ]
    }
   ],
   "source": [
    "class A:\n",
    "    pass\n",
    "\n",
    "a = A()\n",
    "z=A()\n",
    "print(a)\n",
    "# # print(a.__eq__)\n",
    "# print(hash(a))\n",
    "print(str(a))\n",
    "print(repr(a))\n",
    "# print(hash(z))\n"
   ]
  },
  {
   "cell_type": "code",
   "execution_count": 30,
   "metadata": {},
   "outputs": [
    {
     "name": "stdout",
     "output_type": "stream",
     "text": [
      "False\n"
     ]
    }
   ],
   "source": [
    "class Person:\n",
    "    def __init__(self, name, age):\n",
    "        self.name = name\n",
    "        self.age = age\n",
    "\n",
    "    def __eq__(self, other):\n",
    "        if isinstance(other, Person):\n",
    "            return self.name == other.name and self.age == other.age\n",
    "        return False\n",
    "\n",
    "CR = Person(\"Hanumat\", 20)\n",
    "hanumat = Person(\"Hanumat\", 20)\n",
    "\n",
    "# print(CR == hanumat)  \n",
    "print(CR is hanumat)  \n"
   ]
  },
  {
   "cell_type": "markdown",
   "metadata": {},
   "source": [
    "# overriding default object"
   ]
  },
  {
   "cell_type": "code",
   "execution_count": 14,
   "metadata": {},
   "outputs": [
    {
     "name": "stdout",
     "output_type": "stream",
     "text": [
      "This is overiding! Order by Custom!\n"
     ]
    }
   ],
   "source": [
    "class Custom:\n",
    "    def __str__(self):\n",
    "        return \"This is overiding! Order by Custom!\"\n",
    "\n",
    "obj = Custom()\n",
    "print(obj)  \n"
   ]
  },
  {
   "cell_type": "markdown",
   "metadata": {},
   "source": [
    "# Super "
   ]
  },
  {
   "cell_type": "markdown",
   "metadata": {},
   "source": [
    "# Multilevel Inheritance\n",
    "A chain of inheritance where a subclass is derived from another subclass."
   ]
  },
  {
   "cell_type": "code",
   "execution_count": null,
   "metadata": {},
   "outputs": [],
   "source": [
    "class Animal:\n",
    "    def speak(self):\n",
    "        return \"Animal Sound\"\n",
    "\n",
    "class Dog(Animal):\n",
    "    pass\n",
    "\n",
    "class Bulldog(Dog):\n",
    "    pass\n",
    "\n",
    "bulldog = Bulldog()\n",
    "print(bulldog.speak())  # Output: Animal Sound"
   ]
  },
  {
   "cell_type": "markdown",
   "metadata": {},
   "source": [
    "# Hierarchical Inheritance\n",
    "Multiple classes inherit from a single superclass."
   ]
  },
  {
   "cell_type": "code",
   "execution_count": 34,
   "metadata": {},
   "outputs": [
    {
     "name": "stdout",
     "output_type": "stream",
     "text": [
      "Animal Sound\n",
      "Animal Sound\n"
     ]
    }
   ],
   "source": [
    "class Animal:\n",
    "    def speak(self):\n",
    "        return \"Animal Sound\"\n",
    "\n",
    "class Dog(Animal):\n",
    "    pass\n",
    "\n",
    "class Cat(Animal):\n",
    "    pass\n",
    "\n",
    "dog = Dog()\n",
    "cat = Cat()\n",
    "print(dog.speak()) \n",
    "print(cat.speak())  \n"
   ]
  },
  {
   "cell_type": "markdown",
   "metadata": {},
   "source": [
    "# Hybrid Inheritance\n",
    "Hybrid inheritance is a combination of multiple inheritance types. In Python, it can be achieved by using multiple and multilevel inheritance together.\n",
    "\n",
    "In Java, hybrid inheritance is possible through a combination of classes and interfaces, though it’s not as straightforward as in Python."
   ]
  },
  {
   "cell_type": "code",
   "execution_count": null,
   "metadata": {},
   "outputs": [],
   "source": [
    "class Animal:\n",
    "    def speak(self):\n",
    "        return \"Animal Sound\"\n",
    "\n",
    "class Bird:\n",
    "    def fly(self):\n",
    "        return \"Flies in the sky\"\n",
    "\n",
    "class Mammal(Animal):\n",
    "    pass\n",
    "\n",
    "class Bat(Mammal, Bird):\n",
    "    pass\n",
    "\n",
    "bat = Bat()\n",
    "print(bat.speak())  \n",
    "print(bat.fly())  "
   ]
  },
  {
   "cell_type": "markdown",
   "metadata": {},
   "source": [
    "# A Class in Python has three types of access modifiers:\n",
    "\n",
    "Public Access Modifier: Theoretically, public methods and fields can be accessed directly by any class.\n",
    "Protected Access Modifier: Theoretically, protected methods and fields can be accessed within the same class it is declared and its subclass.\n",
    "Private Access Modifier: Theoretically, private methods and fields can be only accessed within the same class it is declared.\n"
   ]
  },
  {
   "cell_type": "code",
   "execution_count": null,
   "metadata": {},
   "outputs": [],
   "source": [
    "public : Name\n",
    "protected : _name\n",
    "private : __Name"
   ]
  },
  {
   "cell_type": "markdown",
   "metadata": {},
   "source": [
    "# Polymorphism in Python\n"
   ]
  },
  {
   "cell_type": "markdown",
   "metadata": {},
   "source": [
    "# What is Polymorphism?\n",
    "The literal meaning of polymorphism is the condition of occurrence in different forms.\n",
    "\n",
    "Polymorphism is a very important concept in programming. It refers to the use of a single type entity (method, operator or object) to represent different types in different scenarios."
   ]
  },
  {
   "cell_type": "markdown",
   "metadata": {},
   "source": [
    "# Polymorphism for + operator\n"
   ]
  },
  {
   "cell_type": "markdown",
   "metadata": {},
   "source": [
    "Function Polymorphism in Python\n",
    "There are some functions in Python which are compatible to run with multiple data types.\n",
    "\n",
    "One such function is the len() function. It can run with many data types in Python. Let's look at some example use cases of the function."
   ]
  },
  {
   "cell_type": "markdown",
   "metadata": {},
   "source": [
    "# Function Polymorphism in Python\n",
    "There are some functions in Python which are compatible to run with multiple data types.\n",
    "\n",
    "One such function is the len() function. It can run with many data types in Python. Let's look at some example use cases of the function."
   ]
  },
  {
   "cell_type": "code",
   "execution_count": null,
   "metadata": {},
   "outputs": [],
   "source": [
    "print(len(\"Programiz\"))\n",
    "print(len([\"Python\", \"Java\", \"C\"]))\n",
    "print(len({\"Name\": \"John\", \"Address\": \"Nepal\"}))"
   ]
  },
  {
   "cell_type": "code",
   "execution_count": 35,
   "metadata": {},
   "outputs": [
    {
     "name": "stdout",
     "output_type": "stream",
     "text": [
      "30\n",
      "24\n",
      "Unsupported operation\n"
     ]
    }
   ],
   "source": [
    "def calculate(*args):\n",
    "    if len(args) == 2:  \n",
    "        return args[0] + args[1]\n",
    "    elif len(args) == 3:  \n",
    "        return args[0] * args[1] * args[2]\n",
    "    else:\n",
    "        return \"Unsupported operation\"\n",
    "\n",
    "print(calculate(10, 20))  \n",
    "\n",
    "print(calculate(2, 3, 4)) \n",
    "\n",
    "print(calculate(1))  \n"
   ]
  },
  {
   "cell_type": "markdown",
   "metadata": {},
   "source": [
    "# Polymorphism in Class Methods"
   ]
  },
  {
   "cell_type": "code",
   "execution_count": 1,
   "metadata": {},
   "outputs": [
    {
     "name": "stdout",
     "output_type": "stream",
     "text": [
      "Meow\n",
      "I am a cat. My name is Katherine. I am 2.5 years old.\n",
      "Meow\n",
      "Bark\n",
      "I am a dog. My name is Bobby. I am 4 years old.\n",
      "Bark\n"
     ]
    }
   ],
   "source": [
    "class Cat:\n",
    "    def __init__(self, name, age):\n",
    "        self.name = name\n",
    "        self.age = age\n",
    "\n",
    "    def info(self):\n",
    "        print(f\"I am a cat. My name is {self.name}. I am {self.age} years old.\")\n",
    "\n",
    "    def make_sound(self):\n",
    "        print(\"Meow\")\n",
    "\n",
    "\n",
    "class Dog:\n",
    "    def __init__(self, name, age):\n",
    "        self.name = name\n",
    "        self.age = age\n",
    "\n",
    "    def info(self):\n",
    "        print(f\"I am a dog. My name is {self.name}. I am {self.age} years old.\")\n",
    "\n",
    "    def make_sound(self):\n",
    "        print(\"Bark\")\n",
    "\n",
    "\n",
    "cat1 = Cat(\"Katherine\", 2.5)\n",
    "dog1 = Dog(\"Bobby\", 4)\n",
    "\n",
    "for animal in (cat1, dog1):\n",
    "    animal.make_sound()\n",
    "    animal.info()\n",
    "    animal.make_sound()\n"
   ]
  },
  {
   "cell_type": "markdown",
   "metadata": {},
   "source": [
    "# Super in python\n",
    "The super() function in Python allows a subclass to access methods or properties of its parent class. This is especially useful in inheritance when a subclass needs to build upon or modify the behavior of the parent class."
   ]
  },
  {
   "cell_type": "code",
   "execution_count": 3,
   "metadata": {},
   "outputs": [
    {
     "name": "stdout",
     "output_type": "stream",
     "text": [
      "Department: BCA Department\n",
      "Student Name: Hanumat\n",
      "Roll No: 101\n",
      "---\n",
      "Department: BCA Department\n",
      "Student Name: Ayush\n",
      "Roll No: 102\n"
     ]
    }
   ],
   "source": [
    "class BCA_Department:\n",
    "    def __init__(self, department_name):\n",
    "        self.department_name = department_name\n",
    "\n",
    "    def display_info(self):\n",
    "        print(f\"Department: {self.department_name}\")\n",
    "\n",
    "class Student(BCA_Department):\n",
    "    def __init__(self, department_name, student_name, roll_no):\n",
    "        super().__init__(department_name)\n",
    "        self.student_name = student_name\n",
    "        self.roll_no = roll_no\n",
    "\n",
    "    def display_info(self):\n",
    "        super().display_info()\n",
    "        print(f\"Student Name: {self.student_name}\")\n",
    "        print(f\"Roll No: {self.roll_no}\")\n",
    "\n",
    "student1 = Student(\"BCA Department\", \"Hanumat\", 101)\n",
    "student2 = Student(\"BCA Department\", \"Ayush\", 102)\n",
    "\n",
    "student1.display_info()\n",
    "print(\"---\")\n",
    "student2.display_info()\n"
   ]
  },
  {
   "cell_type": "markdown",
   "metadata": {},
   "source": [
    "# Exception classes\n",
    "Exceptions are errors that occur during the execution of a program. Python provides a hierarchy of exception classes, which inherit from the base class BaseException."
   ]
  },
  {
   "cell_type": "code",
   "execution_count": 1,
   "metadata": {},
   "outputs": [
    {
     "ename": "ZeroDivisionError",
     "evalue": "division by zero",
     "output_type": "error",
     "traceback": [
      "\u001b[1;31m---------------------------------------------------------------------------\u001b[0m",
      "\u001b[1;31mZeroDivisionError\u001b[0m                         Traceback (most recent call last)",
      "Cell \u001b[1;32mIn[1], line 1\u001b[0m\n\u001b[1;32m----> 1\u001b[0m result \u001b[38;5;241m=\u001b[39m \u001b[38;5;241;43m10\u001b[39;49m\u001b[43m \u001b[49m\u001b[38;5;241;43m/\u001b[39;49m\u001b[43m \u001b[49m\u001b[38;5;241;43m0\u001b[39;49m\n\u001b[0;32m      2\u001b[0m \u001b[38;5;28mprint\u001b[39m(\u001b[38;5;124m\"\u001b[39m\u001b[38;5;124mYou have passed\u001b[39m\u001b[38;5;124m\"\u001b[39m)\n",
      "\u001b[1;31mZeroDivisionError\u001b[0m: division by zero"
     ]
    }
   ],
   "source": [
    "result = 10 / 0\n",
    "print(\"You have passed\")"
   ]
  },
  {
   "cell_type": "code",
   "execution_count": null,
   "metadata": {},
   "outputs": [
    {
     "ename": "SyntaxError",
     "evalue": "f-string: empty expression not allowed (3615498879.py, line 5)",
     "output_type": "error",
     "traceback": [
      "\u001b[1;36m  Cell \u001b[1;32mIn[4], line 5\u001b[1;36m\u001b[0m\n\u001b[1;33m    print(f\"Error occurred: {} and class is {type(a)}\")\u001b[0m\n\u001b[1;37m                                                      ^\u001b[0m\n\u001b[1;31mSyntaxError\u001b[0m\u001b[1;31m:\u001b[0m f-string: empty expression not allowed\n"
     ]
    }
   ],
   "source": [
    "try:\n",
    "    a=int(input(\"Enter a number: \"))\n",
    "    result = 10 / a\n",
    "except:\n",
    "    print(f\"Error occurred: {5} and class is {type(a)}\")\n",
    "print(\"You have passed\")"
   ]
  },
  {
   "cell_type": "code",
   "execution_count": null,
   "metadata": {},
   "outputs": [
    {
     "name": "stdout",
     "output_type": "stream",
     "text": [
      "This will be executed no matter what\n"
     ]
    }
   ],
   "source": [
    "try:\n",
    "    result = 10 / 0\n",
    "except ZeroDivisionError:\n",
    "    print(\"Divided by zero\")\n",
    "finally:\n",
    "    print(\"This will be executed no matter what\")"
   ]
  },
  {
   "cell_type": "markdown",
   "metadata": {},
   "source": [
    "# Raise\n",
    "In Python, the raise statement is used to trigger an exception manually. This can be useful when you want to enforce certain conditions in your code and handle errors gracefully.\n",
    "\n",
    "Basic Usage\n",
    "The raise statement can be used with or without specifying an exception."
   ]
  },
  {
   "cell_type": "markdown",
   "metadata": {},
   "source": [
    "# Raising a Generic Exception"
   ]
  },
  {
   "cell_type": "code",
   "execution_count": 16,
   "metadata": {},
   "outputs": [
    {
     "ename": "Exception",
     "evalue": "This is a generic exception raised manually by me",
     "output_type": "error",
     "traceback": [
      "\u001b[1;31m---------------------------------------------------------------------------\u001b[0m",
      "\u001b[1;31mException\u001b[0m                                 Traceback (most recent call last)",
      "Cell \u001b[1;32mIn[16], line 1\u001b[0m\n\u001b[1;32m----> 1\u001b[0m \u001b[38;5;28;01mraise\u001b[39;00m \u001b[38;5;167;01mException\u001b[39;00m(\u001b[38;5;124m\"\u001b[39m\u001b[38;5;124mThis is a generic exception raised manually by me\u001b[39m\u001b[38;5;124m\"\u001b[39m)\n",
      "\u001b[1;31mException\u001b[0m: This is a generic exception raised manually by me"
     ]
    }
   ],
   "source": [
    "raise Exception(\"This is a generic exception raised manually by me\")"
   ]
  },
  {
   "cell_type": "markdown",
   "metadata": {},
   "source": [
    "# Raising a Specific Exception\n",
    "We can raise specific built-in exceptions like ValueError, TypeError, etc."
   ]
  },
  {
   "cell_type": "code",
   "execution_count": 17,
   "metadata": {},
   "outputs": [
    {
     "ename": "ValueError",
     "evalue": "This is a value error",
     "output_type": "error",
     "traceback": [
      "\u001b[1;31m---------------------------------------------------------------------------\u001b[0m",
      "\u001b[1;31mValueError\u001b[0m                                Traceback (most recent call last)",
      "Cell \u001b[1;32mIn[17], line 1\u001b[0m\n\u001b[1;32m----> 1\u001b[0m \u001b[38;5;28;01mraise\u001b[39;00m \u001b[38;5;167;01mValueError\u001b[39;00m(\u001b[38;5;124m\"\u001b[39m\u001b[38;5;124mThis is a value error\u001b[39m\u001b[38;5;124m\"\u001b[39m)\n",
      "\u001b[1;31mValueError\u001b[0m: This is a value error"
     ]
    }
   ],
   "source": [
    "raise ValueError(\"This is a value error\")"
   ]
  },
  {
   "cell_type": "markdown",
   "metadata": {},
   "source": [
    "# Custom Exceptions\n",
    "We can also define our own custom exceptions by creating a new class that inherits from the Exception class."
   ]
  },
  {
   "cell_type": "code",
   "execution_count": null,
   "metadata": {},
   "outputs": [],
   "source": [
    "class MyCustomError(Exception):\n",
    "    pass\n",
    "\n",
    "raise MyCustomError(\"This is a custom error\")"
   ]
  },
  {
   "cell_type": "markdown",
   "metadata": {},
   "source": [
    "In above cell we inherited the custom error and we raised it using the raise keyword"
   ]
  }
 ],
 "metadata": {
  "kernelspec": {
   "display_name": "Python 3",
   "language": "python",
   "name": "python3"
  },
  "language_info": {
   "codemirror_mode": {
    "name": "ipython",
    "version": 3
   },
   "file_extension": ".py",
   "mimetype": "text/x-python",
   "name": "python",
   "nbconvert_exporter": "python",
   "pygments_lexer": "ipython3",
   "version": "3.9.6"
  }
 },
 "nbformat": 4,
 "nbformat_minor": 2
}
